{
 "cells": [
  {
   "cell_type": "markdown",
   "metadata": {
    "id": "5xWM8z8RU0QA"
   },
   "source": [
    "# Operadores en Python\n",
    "\n",
    "<hr>\n",
    "\n",
    "- Operadores aritméticos: `+ - * / % ** //`\n",
    "- Operadores de asignación: `=\t+=\t-=\t*=\t/=\t%=\t//=\t**=\t&=\t|=\t^=\t>>=\t<<=` \n",
    "- Operadores de comparación: `==\t!=\t<\t>\t>=\t<=` \n",
    "- Operadores lógicos: `and or not`\n",
    "- Operadores de identidad: `in not in`\n",
    "- Operadores de presencia: `is is not`\n",
    "- Operadores bit a bit: `&\t |\t^\t~\t<<\t>>`\n",
    "\n",
    "<hr>"
   ]
  },
  {
   "cell_type": "markdown",
   "metadata": {
    "id": "XFBnJ_uOU0QC"
   },
   "source": [
    "## Operadores aritméticos\n",
    "\n",
    "\n",
    "```python\n",
    "+  # Suma\n",
    "-  # Resta\n",
    "*  # Multiplicación\n",
    "/  # División\n",
    "%  # Módulo\n",
    "** # Exponente\n",
    "// # División entera\n",
    "```"
   ]
  },
  {
   "cell_type": "markdown",
   "metadata": {
    "id": "NJ1EMoDbU0QD"
   },
   "source": [
    "## Operadores de asignación \n",
    "\n",
    "\n",
    "```python\n",
    "# Operadores de asignación aritméticos\n",
    "+= -= *= /= %= //= **= \n",
    "# Operadores de asignación bit a bit\n",
    "&= != ^= >>= <<=\n",
    "```"
   ]
  },
  {
   "cell_type": "markdown",
   "metadata": {
    "id": "1M8A9Gm0U0QE"
   },
   "source": [
    "## Operadores de comparación\n",
    "\n",
    "```python\n",
    "== # igual a\n",
    "!= # diferente de\n",
    "<  # menor que\n",
    ">  # mayor que\n",
    "<= # menor o igual a \n",
    ">= # mayor o igual a\n",
    "```\n"
   ]
  },
  {
   "cell_type": "markdown",
   "metadata": {
    "id": "6f21t3K1U0QG"
   },
   "source": [
    "## Operadores lógicos\n",
    "\n",
    "```python\n",
    "# Operadores lógicos\n",
    "and #(Logical AND)\n",
    "or #(Logical OR)\n",
    "not #(Logical NOT)\n",
    "```"
   ]
  },
  {
   "cell_type": "markdown",
   "metadata": {
    "id": "pQBGgOnZU0QH"
   },
   "source": [
    "## Operadores de pertenencia\n",
    "\n",
    "```python\n",
    "in #(comprueba si un elemento está presente en una secuencia)\n",
    "not in #(comprueba si un elemento no está presente en una secuencia)\n",
    "```"
   ]
  },
  {
   "cell_type": "markdown",
   "metadata": {
    "id": "0G4nfe2-U0QI"
   },
   "source": [
    "## Operadores de identidad\n",
    "\n",
    "```python\n",
    "\n",
    "is #(comprueba si dos variables se refieren al mismo objeto)\n",
    "is not #(comprueba si dos variables no se refieren al mismo objeto)\n",
    "```"
   ]
  }
 ],
 "metadata": {
  "colab": {
   "provenance": []
  },
  "kernelspec": {
   "display_name": "Python 3 (ipykernel)",
   "language": "python",
   "name": "python3"
  },
  "language_info": {
   "codemirror_mode": {
    "name": "ipython",
    "version": 3
   },
   "file_extension": ".py",
   "mimetype": "text/x-python",
   "name": "python",
   "nbconvert_exporter": "python",
   "pygments_lexer": "ipython3",
   "version": "3.10.12"
  },
  "vscode": {
   "interpreter": {
    "hash": "012f52854f7fa08f2b07191e9a5c8e9103d01df8457f9afa486e7fdf6adf43ab"
   }
  }
 },
 "nbformat": 4,
 "nbformat_minor": 1
}
