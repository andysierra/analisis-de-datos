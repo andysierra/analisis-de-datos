{
 "cells": [
  {
   "cell_type": "markdown",
   "id": "99b7c791",
   "metadata": {},
   "source": [
    "## ¿Qué es Pandas?\n",
    "\n",
    "    - Pandas es una librería que nos va a permitir maninupar los datos usando diferentes métodos.\n",
    "    - Pandas permite usar Dataframes (filas y columnas)\n",
    "    - En cada DataFrame una columna será una Serie\n",
    "\n"
   ]
  },
  {
   "cell_type": "markdown",
   "id": "873089b5",
   "metadata": {},
   "source": [
    "## Importar librerías"
   ]
  },
  {
   "cell_type": "code",
   "execution_count": 1,
   "id": "010e8115",
   "metadata": {},
   "outputs": [],
   "source": [
    "import pandas as pd\n"
   ]
  },
  {
   "cell_type": "markdown",
   "id": "f2654b3d",
   "metadata": {},
   "source": [
    "## Crear una Serie\n",
    "\n",
    "Una serie de pandas consta de dos componentes principales:\n",
    "\n",
    "\n",
    "<ul>\n",
    "    <li> Datos: estos son los datos reales almacenados en la serie, que pueden ser cualquier tipo de valores u objetos. </li>\n",
    "    <li>Índice: El índice es una secuencia etiquetada de valores que identifica de forma única cada elemento de la serie.</li>\n",
    "</ul>"
   ]
  },
  {
   "cell_type": "markdown",
   "id": "2522ebec",
   "metadata": {},
   "source": [
    "### Ejemplo 1"
   ]
  },
  {
   "cell_type": "code",
   "execution_count": 3,
   "id": "b5430260",
   "metadata": {},
   "outputs": [
    {
     "name": "stdout",
     "output_type": "stream",
     "text": [
      "\n",
      "Series Example:\n",
      "a     100\n",
      "b     200\n",
      "c    hola\n",
      "d     400\n",
      "e     500\n",
      "Name: cosas locas, dtype: object\n"
     ]
    }
   ],
   "source": [
    "index = ['a', 'b', 'c', 'd', 'e']\n",
    "series_example = pd.Series([100, 200, \"hola\", 400, 500], index=index, name=\"cosas locas\")\n",
    "print(\"\\nSeries Example:\")\n",
    "print(series_example)"
   ]
  },
  {
   "cell_type": "markdown",
   "id": "65132314",
   "metadata": {},
   "source": [
    "### Ejemplo 2"
   ]
  },
  {
   "cell_type": "code",
   "execution_count": 7,
   "id": "5b1b78a5",
   "metadata": {},
   "outputs": [
    {
     "name": "stdout",
     "output_type": "stream",
     "text": [
      "\n",
      "Prices Series:\n"
     ]
    },
    {
     "data": {
      "text/plain": [
       "0     9.99\n",
       "1    14.95\n",
       "2     7.50\n",
       "3    19.99\n",
       "4    12.49\n",
       "Name: Price, dtype: float64"
      ]
     },
     "execution_count": 7,
     "metadata": {},
     "output_type": "execute_result"
    }
   ],
   "source": [
    "prices = [9.99, 14.95, 7.50, 19.99, 12.49]\n",
    "\n",
    "prices_series = pd.Series(prices, name='Price')\n",
    "\n",
    "\n",
    "print(\"\\nPrices Series:\")\n",
    "prices_series"
   ]
  },
  {
   "cell_type": "markdown",
   "id": "0811693d",
   "metadata": {},
   "source": [
    "### Obtener un valor"
   ]
  },
  {
   "cell_type": "code",
   "execution_count": 9,
   "id": "b3a14222",
   "metadata": {},
   "outputs": [
    {
     "name": "stdout",
     "output_type": "stream",
     "text": [
      "19.99\n"
     ]
    }
   ],
   "source": [
    "print(prices_series[3])"
   ]
  },
  {
   "cell_type": "markdown",
   "id": "382132b7",
   "metadata": {},
   "source": [
    "## Crear un Dataframe"
   ]
  },
  {
   "cell_type": "code",
   "execution_count": 11,
   "id": "769df9b1",
   "metadata": {},
   "outputs": [],
   "source": [
    "movies_data = {\n",
    "    'Title': ['Inception', 'The Shawshank Redemption', 'The Godfather', 'Pulp Fiction', 'Forrest Gump'],\n",
    "    'Director': ['Christopher Nolan', 'Frank Darabont', 'Francis Ford Coppola', 'Quentin Tarantino', 'Robert Zemeckis'],\n",
    "    'Year': [2010, 1994, 1972, 1994, 1994],\n",
    "    'Sales': prices\n",
    "}"
   ]
  },
  {
   "cell_type": "markdown",
   "id": "ccd47901",
   "metadata": {},
   "source": [
    "## Visualizar dataframe"
   ]
  },
  {
   "cell_type": "code",
   "execution_count": 15,
   "id": "cb63ad25",
   "metadata": {},
   "outputs": [
    {
     "data": {
      "text/html": [
       "<div>\n",
       "<style scoped>\n",
       "    .dataframe tbody tr th:only-of-type {\n",
       "        vertical-align: middle;\n",
       "    }\n",
       "\n",
       "    .dataframe tbody tr th {\n",
       "        vertical-align: top;\n",
       "    }\n",
       "\n",
       "    .dataframe thead th {\n",
       "        text-align: right;\n",
       "    }\n",
       "</style>\n",
       "<table border=\"1\" class=\"dataframe\">\n",
       "  <thead>\n",
       "    <tr style=\"text-align: right;\">\n",
       "      <th></th>\n",
       "      <th>Title</th>\n",
       "      <th>Director</th>\n",
       "      <th>Year</th>\n",
       "      <th>Sales</th>\n",
       "    </tr>\n",
       "  </thead>\n",
       "  <tbody>\n",
       "    <tr>\n",
       "      <th>0</th>\n",
       "      <td>Inception</td>\n",
       "      <td>Christopher Nolan</td>\n",
       "      <td>2010</td>\n",
       "      <td>9.99</td>\n",
       "    </tr>\n",
       "    <tr>\n",
       "      <th>1</th>\n",
       "      <td>The Shawshank Redemption</td>\n",
       "      <td>Frank Darabont</td>\n",
       "      <td>1994</td>\n",
       "      <td>14.95</td>\n",
       "    </tr>\n",
       "    <tr>\n",
       "      <th>2</th>\n",
       "      <td>The Godfather</td>\n",
       "      <td>Francis Ford Coppola</td>\n",
       "      <td>1972</td>\n",
       "      <td>7.50</td>\n",
       "    </tr>\n",
       "    <tr>\n",
       "      <th>3</th>\n",
       "      <td>Pulp Fiction</td>\n",
       "      <td>Quentin Tarantino</td>\n",
       "      <td>1994</td>\n",
       "      <td>19.99</td>\n",
       "    </tr>\n",
       "    <tr>\n",
       "      <th>4</th>\n",
       "      <td>Forrest Gump</td>\n",
       "      <td>Robert Zemeckis</td>\n",
       "      <td>1994</td>\n",
       "      <td>12.49</td>\n",
       "    </tr>\n",
       "  </tbody>\n",
       "</table>\n",
       "</div>"
      ],
      "text/plain": [
       "                      Title              Director  Year  Sales\n",
       "0                 Inception     Christopher Nolan  2010   9.99\n",
       "1  The Shawshank Redemption        Frank Darabont  1994  14.95\n",
       "2             The Godfather  Francis Ford Coppola  1972   7.50\n",
       "3              Pulp Fiction     Quentin Tarantino  1994  19.99\n",
       "4              Forrest Gump       Robert Zemeckis  1994  12.49"
      ]
     },
     "execution_count": 15,
     "metadata": {},
     "output_type": "execute_result"
    }
   ],
   "source": [
    "movies_dataframe = pd.DataFrame(movies_data)\n",
    "movies_dataframe"
   ]
  },
  {
   "cell_type": "markdown",
   "id": "f21161d9",
   "metadata": {},
   "source": [
    "## Obtener o seleccionar datos"
   ]
  },
  {
   "cell_type": "markdown",
   "id": "a7a008d5",
   "metadata": {},
   "source": [
    "### Seleccionar la fila 2"
   ]
  },
  {
   "cell_type": "code",
   "execution_count": 25,
   "id": "bbb9fca5",
   "metadata": {},
   "outputs": [
    {
     "data": {
      "text/plain": [
       "Title       The Shawshank Redemption\n",
       "Director              Frank Darabont\n",
       "Year                            1994\n",
       "Sales                          14.95\n",
       "Name: 1, dtype: object"
      ]
     },
     "execution_count": 25,
     "metadata": {},
     "output_type": "execute_result"
    }
   ],
   "source": [
    "slicedRow = movies_dataframe.iloc[1]\n",
    "slicedRow"
   ]
  },
  {
   "cell_type": "markdown",
   "id": "1053f855",
   "metadata": {},
   "source": [
    "### Seleccionar una columna"
   ]
  },
  {
   "cell_type": "code",
   "execution_count": 20,
   "id": "f7290b25",
   "metadata": {},
   "outputs": [
    {
     "data": {
      "text/plain": [
       "0       Christopher Nolan\n",
       "1          Frank Darabont\n",
       "2    Francis Ford Coppola\n",
       "3       Quentin Tarantino\n",
       "4         Robert Zemeckis\n",
       "Name: Director, dtype: object"
      ]
     },
     "execution_count": 20,
     "metadata": {},
     "output_type": "execute_result"
    }
   ],
   "source": [
    "slicedCol = movies_dataframe.loc[:,\"Director\"]\n",
    "slicedCol"
   ]
  },
  {
   "cell_type": "markdown",
   "id": "482db4e4",
   "metadata": {},
   "source": [
    "### Seleccionar el año de la pelicula \"The Godfather\""
   ]
  },
  {
   "cell_type": "code",
   "execution_count": 22,
   "id": "6770915e",
   "metadata": {},
   "outputs": [
    {
     "name": "stdout",
     "output_type": "stream",
     "text": [
      "1972\n"
     ]
    }
   ],
   "source": [
    "year_godfather = movies_dataframe.iloc[2,2]\n",
    "print(year_godfather)"
   ]
  },
  {
   "cell_type": "markdown",
   "id": "b2cca95b",
   "metadata": {},
   "source": [
    "### Sacar promedio de los precios"
   ]
  },
  {
   "cell_type": "code",
   "execution_count": 27,
   "id": "d9ce317d",
   "metadata": {},
   "outputs": [
    {
     "name": "stdout",
     "output_type": "stream",
     "text": [
      "Promedio: 12.983999999999998\n"
     ]
    }
   ],
   "source": [
    "sales_series = movies_dataframe.loc[:,\"Sales\"]\n",
    "print(\"Promedio:\",sales_series.mean())"
   ]
  }
 ],
 "metadata": {
  "kernelspec": {
   "display_name": "Python 3 (ipykernel)",
   "language": "python",
   "name": "python3"
  },
  "language_info": {
   "codemirror_mode": {
    "name": "ipython",
    "version": 3
   },
   "file_extension": ".py",
   "mimetype": "text/x-python",
   "name": "python",
   "nbconvert_exporter": "python",
   "pygments_lexer": "ipython3",
   "version": "3.12.5"
  }
 },
 "nbformat": 4,
 "nbformat_minor": 5
}
