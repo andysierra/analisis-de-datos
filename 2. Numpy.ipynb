{
 "cells": [
  {
   "cell_type": "markdown",
   "id": "e82e0f21",
   "metadata": {},
   "source": [
    "# Introducción a Numpy"
   ]
  },
  {
   "cell_type": "code",
   "execution_count": 6,
   "id": "c078db45",
   "metadata": {},
   "outputs": [],
   "source": [
    "import numpy as np"
   ]
  },
  {
   "cell_type": "code",
   "execution_count": 9,
   "id": "b72a84f8",
   "metadata": {},
   "outputs": [
    {
     "name": "stdout",
     "output_type": "stream",
     "text": [
      "1D Array:\n",
      "[1 2 3 4 5]\n",
      "\n",
      "2D Array:\n",
      "[[1 2 3]\n",
      " [4 5 6]\n",
      " [7 8 9]]\n"
     ]
    }
   ],
   "source": [
    "# Crear una matriz 1D NumPy\n",
    "array_1d = np.array([1, 2, 3, 4, 5])\n",
    "\n",
    "print(\"1D Array:\")\n",
    "print(array_1d)\n",
    "\n",
    "# Crear matriz 2D\n",
    "array_2d = np.array([[1, 2, 3], [4, 5, 6], [7, 8, 9]])\n",
    "\n",
    "print(\"\\n2D Array:\")\n",
    "print(array_2d)\n"
   ]
  },
  {
   "cell_type": "code",
   "execution_count": 10,
   "id": "d5db99a5",
   "metadata": {},
   "outputs": [
    {
     "name": "stdout",
     "output_type": "stream",
     "text": [
      "\n",
      "Array Attributes:\n",
      "Shape: (3, 3)\n",
      "Dimensions: 2\n",
      "Data Type: int64\n",
      "\n",
      "Array Indexing and Slicing:\n",
      "Element at (1, 2): 6\n",
      "First row: [1 2 3]\n",
      "Second column: [2 5 8]\n",
      "\n",
      "Array Operations:\n",
      "Sum: [5 7 9]\n",
      "Element-wise product: [ 4 10 18]\n",
      "Matrix product:\n",
      "32\n"
     ]
    }
   ],
   "source": [
    "# Atributos\n",
    "print(\"\\nArray Attributes:\")\n",
    "print(\"Shape:\", array_2d.shape)\n",
    "print(\"Dimensions:\", array_2d.ndim)\n",
    "print(\"Data Type:\", array_2d.dtype)\n",
    "\n",
    "# Arreglos de indexación y slicing\n",
    "print(\"\\nArray Indexing and Slicing:\")\n",
    "print(\"Element at (1, 2):\", array_2d[1, 2])\n",
    "print(\"First row:\", array_2d[0, :])\n",
    "print(\"Second column:\", array_2d[:, 1])\n",
    "\n",
    "# Operaciones de arreglos\n",
    "print(\"\\nArray Operations:\")\n",
    "\n",
    "array_a = np.array([1, 2, 3])\n",
    "array_b = np.array([4, 5, 6])\n",
    "\n",
    "print(\"Sum:\", array_a + array_b)\n",
    "print(\"Element-wise product:\", array_a * array_b)\n",
    "print(\"Matrix product:\")\n",
    "print(np.dot(array_a, array_b))"
   ]
  },
  {
   "cell_type": "code",
   "execution_count": 11,
   "id": "db4b04d3",
   "metadata": {},
   "outputs": [
    {
     "name": "stdout",
     "output_type": "stream",
     "text": [
      "\n",
      "Basic Functions:\n",
      "Mean: 2.0\n",
      "Standard Deviation: 0.816496580927726\n",
      "Max Value: 3\n",
      "Index of Max Value: 2\n"
     ]
    }
   ],
   "source": [
    "# Operaciones básicas\n",
    "print(\"\\nBasic Functions:\")\n",
    "print(\"Mean:\", np.mean(array_a))\n",
    "print(\"Standard Deviation:\", np.std(array_b))\n",
    "print(\"Max Value:\", np.max(array_a))\n",
    "print(\"Index of Max Value:\", np.argmax(array_a))"
   ]
  },
  {
   "cell_type": "code",
   "execution_count": 13,
   "id": "e6d5310e",
   "metadata": {},
   "outputs": [
    {
     "name": "stdout",
     "output_type": "stream",
     "text": [
      "\n",
      "Generating Arrays:\n",
      "Zeros Array:\n",
      "[[0. 0. 0.]\n",
      " [0. 0. 0.]\n",
      " [0. 0. 0.]]\n",
      "Ones Array:\n",
      "[[1. 1. 1. 1.]\n",
      " [1. 1. 1. 1.]]\n",
      "Random Array:\n",
      "[[0.18541267 0.94754695 0.32100097]\n",
      " [0.91690387 0.78903534 0.74702899]]\n"
     ]
    }
   ],
   "source": [
    "# Generando arreglos\n",
    "print(\"\\nGenerating Arrays:\")\n",
    "\n",
    "zeros_array = np.zeros((3, 3))\n",
    "ones_array = np.ones((2, 4))\n",
    "random_array = np.random.rand(2, 3)\n",
    "\n",
    "print(\"Zeros Array:\")\n",
    "print(zeros_array)\n",
    "\n",
    "print(\"Ones Array:\")\n",
    "print(ones_array)\n",
    "\n",
    "print(\"Random Array:\")\n",
    "print(random_array)"
   ]
  },
  {
   "cell_type": "code",
   "execution_count": null,
   "id": "dd5e0fe5",
   "metadata": {},
   "outputs": [],
   "source": []
  }
 ],
 "metadata": {
  "kernelspec": {
   "display_name": "Python 3 (ipykernel)",
   "language": "python",
   "name": "python3"
  },
  "language_info": {
   "codemirror_mode": {
    "name": "ipython",
    "version": 3
   },
   "file_extension": ".py",
   "mimetype": "text/x-python",
   "name": "python",
   "nbconvert_exporter": "python",
   "pygments_lexer": "ipython3",
   "version": "3.10.12"
  }
 },
 "nbformat": 4,
 "nbformat_minor": 5
}
